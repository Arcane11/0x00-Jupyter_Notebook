{
  "nbformat": 4,
  "nbformat_minor": 0,
  "metadata": {
    "colab": {
      "provenance": [],
      "authorship_tag": "ABX9TyPXE1wY1H3cbQiNFFjy74Is",
      "include_colab_link": true
    },
    "kernelspec": {
      "name": "python3",
      "display_name": "Python 3"
    },
    "language_info": {
      "name": "python"
    }
  },
  "cells": [
    {
      "cell_type": "markdown",
      "metadata": {
        "id": "view-in-github",
        "colab_type": "text"
      },
      "source": [
        "<a href=\"https://colab.research.google.com/github/Arcane11/0x00-Jupyter_Notebook/blob/main/google_api_Translator.ipynb\" target=\"_parent\"><img src=\"https://colab.research.google.com/assets/colab-badge.svg\" alt=\"Open In Colab\"/></a>"
      ]
    },
    {
      "cell_type": "code",
      "execution_count": null,
      "metadata": {
        "id": "jevqhpu63_Dx"
      },
      "outputs": [],
      "source": [
        "# installation\n",
        "%pip install torch torchvision torchaudio\n",
        "%pip install transformers ipywidgets gradio --upgrade\n"
      ]
    },
    {
      "cell_type": "code",
      "source": [
        "# import gradio as gd # ui library\n",
        "from transformers import pipeline    # pipeline\n"
      ],
      "metadata": {
        "id": "wKSWLQ3Pktxj"
      },
      "execution_count": null,
      "outputs": []
    },
    {
      "cell_type": "code",
      "source": [
        "# take input from user\n",
        "entry = input(\"Enter the word you want to be translated to Dutch?\")\n",
        "# load pipe lines from huggingface.co\n",
        "translation_pipeline = pipeline(\"translation_en_to_de\")\n",
        "value = translation_pipeline(entry)\n",
        "# print(value)"
      ],
      "metadata": {
        "id": "Ah0Jvzz3tMiz"
      },
      "execution_count": null,
      "outputs": []
    },
    {
      "cell_type": "code",
      "source": [
        " print(value[0]['translation_text'])"
      ],
      "metadata": {
        "id": "N5R8bNahuwK-"
      },
      "execution_count": null,
      "outputs": []
    },
    {
      "cell_type": "code",
      "source": [
        "\n",
        "def translate_transformers(from_text):\n",
        "  value = translation_pipeline(from_text)\n",
        "  return value[0][\"translation_text\"]"
      ],
      "metadata": {
        "id": "FSj1mbgVxAuX"
      },
      "execution_count": null,
      "outputs": []
    },
    {
      "cell_type": "code",
      "source": [
        "translate_transformers(entry)"
      ],
      "metadata": {
        "id": "9fPz95-JyqJm"
      },
      "execution_count": null,
      "outputs": []
    }
  ]
}