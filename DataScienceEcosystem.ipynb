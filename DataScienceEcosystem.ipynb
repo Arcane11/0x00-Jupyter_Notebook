{
 "cells": [
  {
   "cell_type": "markdown",
   "id": "dbf96cbe-38ae-4d11-b2f9-18dee34db679",
   "metadata": {
    "tags": []
   },
   "source": [
    "# Data Science Tools and Ecosystem"
   ]
  },
  {
   "cell_type": "markdown",
   "id": "ca880f86-988c-423d-add8-195ec107d83b",
   "metadata": {
    "tags": []
   },
   "source": [
    "In this notebook, Data Science Tools and Ecosystem are summarized."
   ]
  },
  {
   "cell_type": "markdown",
   "id": "5ac9b1d5-9ccb-4807-863b-0cfae227da28",
   "metadata": {},
   "source": [
    "**Objectives:**\n",
    "* List popular languages for Data Science\n",
    "* Languages in date science\n",
    "* libraries in data science\n",
    "* arithmetic expression in python"
   ]
  },
  {
   "cell_type": "markdown",
   "id": "05bb8d3b-15a6-4c3d-bfa0-6a76f774a909",
   "metadata": {},
   "source": [
    "Some of the popular languages that Data Scientists use are:"
   ]
  },
  {
   "cell_type": "markdown",
   "id": "bf76640c-fd48-4742-9b60-f448875ecc1a",
   "metadata": {},
   "source": [
    "1. Python\n",
    "2. R\n",
    "3. Julia\n",
    "4. caffe"
   ]
  },
  {
   "cell_type": "markdown",
   "id": "7f310ffa-7e9f-41be-b191-20158f5d76be",
   "metadata": {},
   "source": [
    "Some of the commonly used libraries used by Data Scientists include:"
   ]
  },
  {
   "cell_type": "markdown",
   "id": "6a17b13b-de43-4c57-aa49-28f1f359d3d6",
   "metadata": {},
   "source": [
    "1. ggplot from R\n",
    "2. pandas from Python\n",
    "3. matplotlib from Python\n",
    "4. Leaflet from R"
   ]
  },
  {
   "cell_type": "markdown",
   "id": "8c6b42d9-4d5c-44a0-83ec-f81bb59c7300",
   "metadata": {},
   "source": [
    "|Data Science |\n",
    "|:-----|\n",
    "|Jupyter Notebook |\n",
    "|Apache Zeppelin |\n",
    "|RStudio|"
   ]
  },
  {
   "cell_type": "markdown",
   "id": "39d59181-ee4c-43be-8acb-5c5bc0cd278a",
   "metadata": {},
   "source": [
    "### Below are a few examples of evaluating arithmetic expressions in Python.\n",
    "2 + 3\n",
    "= 5\n",
    "---\n",
    "* * *\n",
    "4 - 1\n",
    "= 3\n",
    "---\n",
    "* * *\n",
    "5 * 2\n",
    "= 10\n",
    "---\n",
    "* * *\n",
    "10 / 2\n",
    "= 5.0"
   ]
  },
  {
   "cell_type": "code",
   "execution_count": 4,
   "id": "9dda8009-deed-4d48-931c-14bd73cfcd15",
   "metadata": {
    "tags": []
   },
   "outputs": [
    {
     "name": "stdout",
     "output_type": "stream",
     "text": [
      "3.3333333333333335\n"
     ]
    }
   ],
   "source": [
    "#  This will convert 200 minutes to hours by diving by 60\n",
    "x = 200;\n",
    "y = (x/60);\n",
    "print(y);"
   ]
  },
  {
   "cell_type": "code",
   "execution_count": 5,
   "id": "eca8adf8-4d58-485a-87ba-0c3cf936f548",
   "metadata": {
    "tags": []
   },
   "outputs": [
    {
     "data": {
      "text/plain": [
       "17"
      ]
     },
     "execution_count": 5,
     "metadata": {},
     "output_type": "execute_result"
    }
   ],
   "source": [
    "#This a simple arithmetic expression to mutiply then add integers\n",
    "(3*4)+5"
   ]
  },
  {
   "cell_type": "markdown",
   "id": "15ded517-8b5a-4997-90dd-59ae0f525f03",
   "metadata": {},
   "source": [
    "## Author\n",
    "Beka Fekadu"
   ]
  }
 ],
 "metadata": {
  "kernelspec": {
   "display_name": "Python",
   "language": "python",
   "name": "conda-env-python-py"
  },
  "language_info": {
   "codemirror_mode": {
    "name": "ipython",
    "version": 3
   },
   "file_extension": ".py",
   "mimetype": "text/x-python",
   "name": "python",
   "nbconvert_exporter": "python",
   "pygments_lexer": "ipython3",
   "version": "3.7.12"
  }
 },
 "nbformat": 4,
 "nbformat_minor": 5
}
