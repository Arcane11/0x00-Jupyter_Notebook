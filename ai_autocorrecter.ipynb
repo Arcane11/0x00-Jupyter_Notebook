{
  "nbformat": 4,
  "nbformat_minor": 0,
  "metadata": {
    "colab": {
      "provenance": [],
      "authorship_tag": "ABX9TyM4FthkspxKGijSzTqqfc5j",
      "include_colab_link": true
    },
    "kernelspec": {
      "name": "python3",
      "display_name": "Python 3"
    },
    "language_info": {
      "name": "python"
    }
  },
  "cells": [
    {
      "cell_type": "markdown",
      "metadata": {
        "id": "view-in-github",
        "colab_type": "text"
      },
      "source": [
        "<a href=\"https://colab.research.google.com/github/Arcane11/0x00-Jupyter_Notebook/blob/main/ai_autocorrecter.ipynb\" target=\"_parent\"><img src=\"https://colab.research.google.com/assets/colab-badge.svg\" alt=\"Open In Colab\"/></a>"
      ]
    },
    {
      "cell_type": "code",
      "execution_count": null,
      "metadata": {
        "id": "JdBKpoAxnGtA"
      },
      "outputs": [],
      "source": [
        "%pip install textblob"
      ]
    },
    {
      "cell_type": "code",
      "source": [
        "from textblob import TextBlob"
      ],
      "metadata": {
        "id": "40WgkRv-nbE2"
      },
      "execution_count": null,
      "outputs": []
    },
    {
      "cell_type": "code",
      "source": [
        "inp = input(\"enter some value\")"
      ],
      "metadata": {
        "id": "n9T4C8Ufq5cN"
      },
      "execution_count": null,
      "outputs": []
    },
    {
      "cell_type": "code",
      "source": [
        "text = TextBlob(inp)"
      ],
      "metadata": {
        "id": "3nU58VkmnjJx"
      },
      "execution_count": null,
      "outputs": []
    },
    {
      "cell_type": "code",
      "source": [
        "print(text.correct())"
      ],
      "metadata": {
        "id": "PLOrvzGIoLO-"
      },
      "execution_count": null,
      "outputs": []
    }
  ]
}